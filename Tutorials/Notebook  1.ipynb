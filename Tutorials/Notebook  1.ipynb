{
 "cells": [
  {
   "cell_type": "markdown",
   "id": "169ee9a3",
   "metadata": {},
   "source": [
    "# Basic Quantum Tutorial (Womanium Quantum Global Project)"
   ]
  },
  {
   "cell_type": "markdown",
   "id": "ac2a7d90",
   "metadata": {},
   "source": [
    "In this tutorial we'll learn:\n",
    "- What is Quantum Computing?\n",
    "- What is Qubit?\n",
    "- Superposition\n",
    "- Entanglement\n",
    "- Bloch sphere\n"
   ]
  },
  {
   "cell_type": "markdown",
   "id": "97930d3d",
   "metadata": {},
   "source": [
    "What is quantum computing?\n",
    "\n",
    "\n",
    "Quantum Computation describes the changes occurring to a quantum state. Classical circuits\n",
    "are built from wires and logic gates similarity. Quantum circuits are made by using wires and\n",
    "elementary gates in order to carry and manipulate the information.\n",
    "Quantum Computation and quantum information taught us to think physically about\n",
    "computation, we can also think computationally about physics."
   ]
  },
  {
   "cell_type": "markdown",
   "id": "1d1d9a91",
   "metadata": {},
   "source": [
    "\n",
    "Physics has been a discipline of understanding elementary objects. In classical physics we\n",
    "study objects at a large scale. To learn objects at a microscopic level, we need quantum\n",
    "physics. Quantum mechanics is where a particle or a system don't follow the rules of classical\n",
    "mechanics rather it has it's own set of laws.\n",
    "\n",
    "\n",
    "In a nutshell, quantum Computation is a multidisciplinary field that comprises physics, computer\n",
    "science, and mathematics. Quantum computers solve problems faster than a classical\n",
    "computer.\n"
   ]
  },
  {
   "cell_type": "markdown",
   "id": "e2b08847",
   "metadata": {},
   "source": [
    "Qubit or Quantum Bit:\n",
    "\n",
    "In a classical computation we use bits to process and store our information. In quantum\n",
    "computing we use extension of bits to a quantum mechanics known as ‘Qubits’ or a ‘Quantum\n",
    "Bits'.\n"
   ]
  },
  {
   "cell_type": "markdown",
   "id": "394b1f4a",
   "metadata": {},
   "source": [
    "Superposition:\n",
    "Qubit is a mathematical object. It's a linear combination of states which we call superposition.\n",
    "\n",
    "                                |Ψ> = a |0> + b |1>"
   ]
  },
  {
   "cell_type": "markdown",
   "id": "be5563e3",
   "metadata": {},
   "source": [
    "|Ψ> Is in a superposition of both the states 0 and 1. It is happening before measurement. As\n",
    "soon as we make a measurement, our state collapses and we get one of the two states, i.e.\n",
    "either 0 or 1.\n",
    "\n",
    "'a' and 'b' are amplitudes here. We get the probability by squaring an amplitude.\n",
    "\n",
    "\n",
    "For example:\n",
    "\n",
    "probability of getting |0> is |a|^2\n",
    "similarly, probability of getting |1> is |b|^2"
   ]
  },
  {
   "cell_type": "markdown",
   "id": "d7a20787",
   "metadata": {},
   "source": [
    "Entanglement:\n",
    "\n",
    "Entanglement means correlation. When two qubits are entangled they share their properties\n",
    "even though they are far apart from each other.\n",
    "\n",
    "\n",
    "For example,two Qubits are entangled and let's say one is on the earth and the other one is on\n",
    "the mars, if the state of the qubit( on earth) changes, it will also change the state of the qubit on\n",
    "the mars or vice versa."
   ]
  },
  {
   "cell_type": "markdown",
   "id": "e83cdcd7",
   "metadata": {},
   "source": [
    "Bloch Sphere:\n",
    "\n",
    "\n",
    "Bloch sphere is the sphere which represents the pure normalized States on the surface of it, all\n",
    "having radius equals to one, ie.|r|=1.\n",
    "\n",
    "Bloch sphere is used to represent the state of a one qubit only. For the multi qubit we need a Q\n",
    "sphere.\n",
    "\n",
    "One thing on a Bloch sphere should be noted is that the angles are twice as big as in Hilbert\n",
    "space.\n",
    "\n",
    "For example |0> and |1> are orthogonal but on the Bloch sphere their angle is 180°."
   ]
  },
  {
   "cell_type": "markdown",
   "id": "c512ea58",
   "metadata": {},
   "source": [
    "# Reference:\n",
    "° Book: Quantum Computing and Quantum Information by Michael Nielsen and Issac Chuang\n",
    ". \n",
    "Qiskit"
   ]
  }
 ],
 "metadata": {
  "kernelspec": {
   "display_name": "Python 3 (ipykernel)",
   "language": "python",
   "name": "python3"
  },
  "language_info": {
   "codemirror_mode": {
    "name": "ipython",
    "version": 3
   },
   "file_extension": ".py",
   "mimetype": "text/x-python",
   "name": "python",
   "nbconvert_exporter": "python",
   "pygments_lexer": "ipython3",
   "version": "3.11.4"
  }
 },
 "nbformat": 4,
 "nbformat_minor": 5
}
