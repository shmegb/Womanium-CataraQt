{
 "cells": [
  {
   "cell_type": "markdown",
   "id": "f6a96d04",
   "metadata": {},
   "source": [
    "# Basic Quantum Program Using Qiskit"
   ]
  },
  {
   "cell_type": "markdown",
   "id": "4bed6cd6",
   "metadata": {},
   "source": [
    "We have larened some basic concepts of a quantum computing in our previous tuturials. now its time to have some coding."
   ]
  },
  {
   "cell_type": "code",
   "execution_count": 1,
   "id": "4d626685",
   "metadata": {},
   "outputs": [
    {
     "name": "stdout",
     "output_type": "stream",
     "text": [
      "The design of the circuit is done.\n"
     ]
    }
   ],
   "source": [
    "from qiskit import QuantumRegister, ClassicalRegister, QuantumCircuit\n",
    "q =  QuantumRegister(1)\n",
    "\n",
    "# Here we are using a single Qubit.\n",
    "# Here we need a Classical register to store our information.\n",
    "# we are using single CBit.\n",
    "\n",
    "c = ClassicalRegister(1)\n",
    "\n",
    "\n",
    "# Quantum circuit is composed of classical and quantum register.\n",
    "# Let's define our Quantum circuit\n",
    "\n",
    "qc = QuantumCircuit(q,c)\n",
    "\n",
    "# Now we are applying gates on our qubit, NOT operator/ gate.\n",
    "qc.x(q[0])\n",
    "# We have applied X (NOT) gate to the first qubit.\n",
    "\n",
    "# Now we are associating a quantum bit to a classical bit In order to measure our Qubit.\n",
    "qc.measure(q[0],c[0])\n",
    "# Whatever we get from a measurement, is now stored in a cbit.\n",
    "\n",
    "\n",
    "print(\"The design of the circuit is done.\")"
   ]
  },
  {
   "cell_type": "markdown",
   "id": "2cdfe989",
   "metadata": {},
   "source": [
    "# Visualization of our Circuit\n",
    "Now we need to draw a circuit. \n",
    "We use circuit.draw() method.\n"
   ]
  },
  {
   "cell_type": "code",
   "execution_count": 3,
   "id": "cc4966ae",
   "metadata": {},
   "outputs": [
    {
     "data": {
      "text/html": [
       "<pre style=\"word-wrap: normal;white-space: pre;background: #fff0;line-height: 1.1;font-family: &quot;Courier New&quot;,Courier,monospace\">      ┌───┐┌─┐\n",
       "  q0: ┤ X ├┤M├\n",
       "      └───┘└╥┘\n",
       "c0: 1/══════╩═\n",
       "            0 </pre>"
      ],
      "text/plain": [
       "      ┌───┐┌─┐\n",
       "  q0: ┤ X ├┤M├\n",
       "      └───┘└╥┘\n",
       "c0: 1/══════╩═\n",
       "            0 "
      ]
     },
     "execution_count": 3,
     "metadata": {},
     "output_type": "execute_result"
    }
   ],
   "source": [
    "qc.draw()"
   ]
  },
  {
   "cell_type": "markdown",
   "id": "162e6901",
   "metadata": {},
   "source": [
    "Let's draw the same circuit by using a Matploitlib"
   ]
  },
  {
   "cell_type": "code",
   "execution_count": 4,
   "id": "c2fb78d7",
   "metadata": {},
   "outputs": [
    {
     "data": {
      "image/png": "[encoded data removed]",
      "text/plain": [
       "<Figure size 287.093x200.667 with 1 Axes>"
      ]
     },
     "execution_count": 4,
     "metadata": {},
     "output_type": "execute_result"
    }
   ],
   "source": [
    "qc.draw(output='mpl')"
   ]
  },
  {
   "cell_type": "markdown",
   "id": "c10685ac",
   "metadata": {},
   "source": [
    "In the above Diagram Qubit is represented by a single line and a Cbit is represented by a double line.\n",
    "\n",
    "Initially both are in the state |0>"
   ]
  },
  {
   "cell_type": "markdown",
   "id": "f0b6686b",
   "metadata": {},
   "source": [
    "When we apply a NOT operator to a qubit, it's state changes from |0> to |1>. "
   ]
  },
  {
   "cell_type": "markdown",
   "id": "51e77c65",
   "metadata": {},
   "source": [
    "# Execution of a Circuit"
   ]
  },
  {
   "cell_type": "markdown",
   "id": "4f63d422",
   "metadata": {},
   "source": [
    "We can execute our Quantum program on a quantum computer or a classical simulator. \n",
    "\n",
    "Here we will execute our program on a local simulator provided by IBM."
   ]
  },
  {
   "cell_type": "code",
   "execution_count": 6,
   "id": "8ed78c98",
   "metadata": {},
   "outputs": [
    {
     "name": "stdout",
     "output_type": "stream",
     "text": [
      "{'1': 1024}\n"
     ]
    }
   ],
   "source": [
    "from qiskit import execute, Aer\n",
    "# Here we have used method \"execute\" and \"Aer\" object from the qiskit library for the execution of our circuit.\n",
    "# Here we have 3 parameters mycircuit,backend on which it will be executed and how many times it will be executed.\n",
    "\n",
    "job = execute(qc,Aer.get_backend('qasm_simulator'),shots=1024)\n",
    "\n",
    "# Result of our outcome will be \n",
    "counts = job.result().get_counts(qc)\n",
    "print(counts) # counts is a dictionary"
   ]
  },
  {
   "cell_type": "markdown",
   "id": "f5577561",
   "metadata": {},
   "source": [
    "We have executed our circuit 1024 times and got the same result,ie.|1>, 1024 times. \n",
    "If you want to execute your circuit on a real quantum computer, click the link below. it will take you to the IBMQ then copy and paste the above program to see the result.\n",
    "https://quantum-computing.ibm.com/"
   ]
  },
  {
   "cell_type": "markdown",
   "id": "b51dadc9",
   "metadata": {},
   "source": [
    "# Histogram\n",
    "Now we will plot a histogram to see our outcome."
   ]
  },
  {
   "cell_type": "code",
   "execution_count": 7,
   "id": "9566b3b0",
   "metadata": {},
   "outputs": [
    {
     "data": {
      "image/png": "[encoded data removed]",
      "text/plain": [
       "<Figure size 700x500 with 1 Axes>"
      ]
     },
     "execution_count": 7,
     "metadata": {},
     "output_type": "execute_result"
    }
   ],
   "source": [
    "from qiskit.visualization import plot_histogram\n",
    "plot_histogram(counts)"
   ]
  },
  {
   "cell_type": "markdown",
   "id": "d258c1b5",
   "metadata": {},
   "source": [
    "Task: Create a quantum circuit with more than one qubit and apply not gate, play around and see the outcomes."
   ]
  },
  {
   "cell_type": "markdown",
   "id": "8ec172df",
   "metadata": {},
   "source": [
    "One thing to note here, applying X gate twice will give you the initial state back, so be careful ;)"
   ]
  }
 ],
 "metadata": {
  "kernelspec": {
   "display_name": "Python 3 (ipykernel)",
   "language": "python",
   "name": "python3"
  },
  "language_info": {
   "codemirror_mode": {
    "name": "ipython",
    "version": 3
   },
   "file_extension": ".py",
   "mimetype": "text/x-python",
   "name": "python",
   "nbconvert_exporter": "python",
   "pygments_lexer": "ipython3",
   "version": "3.11.4"
  }
 },
 "nbformat": 4,
 "nbformat_minor": 5
}
